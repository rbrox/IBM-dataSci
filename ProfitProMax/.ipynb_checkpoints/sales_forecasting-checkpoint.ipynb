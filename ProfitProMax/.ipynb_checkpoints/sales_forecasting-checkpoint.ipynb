{
 "cells": [
  {
   "cell_type": "markdown",
   "metadata": {},
   "source": [
    "# 🚩Problem Definition\n",
    "\n",
    "The objective of this project is to build a sales forecasting model that predicts the sales of product families at Favorita stores in Ecuador. Using the historical sales data, along with the provided features such as store information, promotional data, oil prices, and holidays/events, the model should accurately forecast the sales for the given test dates.\n",
    "\n",
    "The sales forecasting model will assist Favorita in optimizing inventory management, planning promotions, and meeting customer demand effectively. Accurate sales predictions can help in making informed business decisions, ensuring optimal stock levels, and maximizing profitability."
   ]
  },
  {
<<<<<<< HEAD
=======
   "cell_type": "code",
   "execution_count": null,
   "metadata": {},
   "outputs": [],
   "source": []
  },
  {
>>>>>>> origin/aditi
   "cell_type": "markdown",
   "metadata": {},
   "source": [
    "# 💾 Data Loading\n",
    "\n",
    "### Data:\n",
    "1. **train.csv**: Sales time series data with features like `store_nbr`, `family`, and `onpromotion`.\n",
    "2. **test.csv**: Similar to `train.csv`, used for sales prediction on provided dates.\n",
    "3. **sample_submission.csv**: Sample submission file format for predictions.\n",
    "4. **stores.csv**: Store metadata including `city`, `state`, `type`, and `cluster` grouping.\n",
    "5. **oil.csv**: Daily oil prices, important for Ecuador's oil-dependent economy.\n",
    "6. **holidays_events.csv**: Information on holidays and events, including transferred dates and bridge days.\n",
    "\n",
    "### How to?:\n",
    " 1. Import `load_data` from `data_preprocessing.py`, this shall return you the dataframes of the said csv's.\n",
    " \n"
   ]
  },
  {
   "cell_type": "code",
   "execution_count": 1,
   "metadata": {},
   "outputs": [],
   "source": [
    "import data_preprocessing as dp\n",
    "import util as ut\n",
    "\n",
    "train_data, test_data, stores_data, oil_data, holidays_data = dp.load_data()\n"
   ]
  },
  {
   "cell_type": "code",
   "execution_count": 2,
   "metadata": {},
   "outputs": [
    {
     "data": {
      "text/html": [
       "<div>\n",
       "<style scoped>\n",
       "    .dataframe tbody tr th:only-of-type {\n",
       "        vertical-align: middle;\n",
       "    }\n",
       "\n",
       "    .dataframe tbody tr th {\n",
       "        vertical-align: top;\n",
       "    }\n",
       "\n",
       "    .dataframe thead th {\n",
       "        text-align: right;\n",
       "    }\n",
       "</style>\n",
       "<table border=\"1\" class=\"dataframe\">\n",
       "  <thead>\n",
       "    <tr style=\"text-align: right;\">\n",
       "      <th></th>\n",
       "      <th>id</th>\n",
       "      <th>date</th>\n",
       "      <th>store_nbr</th>\n",
       "      <th>family</th>\n",
       "      <th>sales</th>\n",
       "      <th>onpromotion</th>\n",
       "    </tr>\n",
       "  </thead>\n",
       "  <tbody>\n",
       "    <tr>\n",
       "      <th>0</th>\n",
       "      <td>0</td>\n",
       "      <td>2013-01-01</td>\n",
       "      <td>1</td>\n",
       "      <td>AUTOMOTIVE</td>\n",
       "      <td>0.0</td>\n",
       "      <td>0</td>\n",
       "    </tr>\n",
       "    <tr>\n",
       "      <th>1</th>\n",
       "      <td>1</td>\n",
       "      <td>2013-01-01</td>\n",
       "      <td>1</td>\n",
       "      <td>BABY CARE</td>\n",
       "      <td>0.0</td>\n",
       "      <td>0</td>\n",
       "    </tr>\n",
       "    <tr>\n",
       "      <th>2</th>\n",
       "      <td>2</td>\n",
       "      <td>2013-01-01</td>\n",
       "      <td>1</td>\n",
       "      <td>BEAUTY</td>\n",
       "      <td>0.0</td>\n",
       "      <td>0</td>\n",
       "    </tr>\n",
       "    <tr>\n",
       "      <th>3</th>\n",
       "      <td>3</td>\n",
       "      <td>2013-01-01</td>\n",
       "      <td>1</td>\n",
       "      <td>BEVERAGES</td>\n",
       "      <td>0.0</td>\n",
       "      <td>0</td>\n",
       "    </tr>\n",
       "    <tr>\n",
       "      <th>4</th>\n",
       "      <td>4</td>\n",
       "      <td>2013-01-01</td>\n",
       "      <td>1</td>\n",
       "      <td>BOOKS</td>\n",
       "      <td>0.0</td>\n",
       "      <td>0</td>\n",
       "    </tr>\n",
       "  </tbody>\n",
       "</table>\n",
       "</div>"
      ],
      "text/plain": [
       "   id        date  store_nbr      family  sales  onpromotion\n",
       "0   0  2013-01-01          1  AUTOMOTIVE    0.0            0\n",
       "1   1  2013-01-01          1   BABY CARE    0.0            0\n",
       "2   2  2013-01-01          1      BEAUTY    0.0            0\n",
       "3   3  2013-01-01          1   BEVERAGES    0.0            0\n",
       "4   4  2013-01-01          1       BOOKS    0.0            0"
      ]
     },
     "execution_count": 2,
     "metadata": {},
     "output_type": "execute_result"
    }
   ],
   "source": [
    "train_data.head()"
   ]
  },
  {
   "cell_type": "code",
   "execution_count": 3,
   "metadata": {},
   "outputs": [
    {
     "data": {
      "text/html": [
       "<div>\n",
       "<style scoped>\n",
       "    .dataframe tbody tr th:only-of-type {\n",
       "        vertical-align: middle;\n",
       "    }\n",
       "\n",
       "    .dataframe tbody tr th {\n",
       "        vertical-align: top;\n",
       "    }\n",
       "\n",
       "    .dataframe thead th {\n",
       "        text-align: right;\n",
       "    }\n",
       "</style>\n",
       "<table border=\"1\" class=\"dataframe\">\n",
       "  <thead>\n",
       "    <tr style=\"text-align: right;\">\n",
       "      <th></th>\n",
       "      <th>id</th>\n",
       "      <th>date</th>\n",
       "      <th>store_nbr</th>\n",
       "      <th>family</th>\n",
       "      <th>onpromotion</th>\n",
       "    </tr>\n",
       "  </thead>\n",
       "  <tbody>\n",
       "    <tr>\n",
       "      <th>0</th>\n",
       "      <td>3000888</td>\n",
       "      <td>2017-08-16</td>\n",
       "      <td>1</td>\n",
       "      <td>AUTOMOTIVE</td>\n",
       "      <td>0</td>\n",
       "    </tr>\n",
       "    <tr>\n",
       "      <th>1</th>\n",
       "      <td>3000889</td>\n",
       "      <td>2017-08-16</td>\n",
       "      <td>1</td>\n",
       "      <td>BABY CARE</td>\n",
       "      <td>0</td>\n",
       "    </tr>\n",
       "    <tr>\n",
       "      <th>2</th>\n",
       "      <td>3000890</td>\n",
       "      <td>2017-08-16</td>\n",
       "      <td>1</td>\n",
       "      <td>BEAUTY</td>\n",
       "      <td>2</td>\n",
       "    </tr>\n",
       "    <tr>\n",
       "      <th>3</th>\n",
       "      <td>3000891</td>\n",
       "      <td>2017-08-16</td>\n",
       "      <td>1</td>\n",
       "      <td>BEVERAGES</td>\n",
       "      <td>20</td>\n",
       "    </tr>\n",
       "    <tr>\n",
       "      <th>4</th>\n",
       "      <td>3000892</td>\n",
       "      <td>2017-08-16</td>\n",
       "      <td>1</td>\n",
       "      <td>BOOKS</td>\n",
       "      <td>0</td>\n",
       "    </tr>\n",
       "  </tbody>\n",
       "</table>\n",
       "</div>"
      ],
      "text/plain": [
       "        id        date  store_nbr      family  onpromotion\n",
       "0  3000888  2017-08-16          1  AUTOMOTIVE            0\n",
       "1  3000889  2017-08-16          1   BABY CARE            0\n",
       "2  3000890  2017-08-16          1      BEAUTY            2\n",
       "3  3000891  2017-08-16          1   BEVERAGES           20\n",
       "4  3000892  2017-08-16          1       BOOKS            0"
      ]
     },
     "execution_count": 3,
     "metadata": {},
     "output_type": "execute_result"
    }
   ],
   "source": [
    "test_data.head()"
   ]
  },
  {
   "cell_type": "code",
   "execution_count": 4,
   "metadata": {},
   "outputs": [
    {
     "data": {
      "text/html": [
       "<div>\n",
       "<style scoped>\n",
       "    .dataframe tbody tr th:only-of-type {\n",
       "        vertical-align: middle;\n",
       "    }\n",
       "\n",
       "    .dataframe tbody tr th {\n",
       "        vertical-align: top;\n",
       "    }\n",
       "\n",
       "    .dataframe thead th {\n",
       "        text-align: right;\n",
       "    }\n",
       "</style>\n",
       "<table border=\"1\" class=\"dataframe\">\n",
       "  <thead>\n",
       "    <tr style=\"text-align: right;\">\n",
       "      <th></th>\n",
       "      <th>store_nbr</th>\n",
       "      <th>city</th>\n",
       "      <th>state</th>\n",
       "      <th>type</th>\n",
       "      <th>cluster</th>\n",
       "    </tr>\n",
       "  </thead>\n",
       "  <tbody>\n",
       "    <tr>\n",
       "      <th>0</th>\n",
       "      <td>1</td>\n",
       "      <td>Quito</td>\n",
       "      <td>Pichincha</td>\n",
       "      <td>D</td>\n",
       "      <td>13</td>\n",
       "    </tr>\n",
       "    <tr>\n",
       "      <th>1</th>\n",
       "      <td>2</td>\n",
       "      <td>Quito</td>\n",
       "      <td>Pichincha</td>\n",
       "      <td>D</td>\n",
       "      <td>13</td>\n",
       "    </tr>\n",
       "    <tr>\n",
       "      <th>2</th>\n",
       "      <td>3</td>\n",
       "      <td>Quito</td>\n",
       "      <td>Pichincha</td>\n",
       "      <td>D</td>\n",
       "      <td>8</td>\n",
       "    </tr>\n",
       "    <tr>\n",
       "      <th>3</th>\n",
       "      <td>4</td>\n",
       "      <td>Quito</td>\n",
       "      <td>Pichincha</td>\n",
       "      <td>D</td>\n",
       "      <td>9</td>\n",
       "    </tr>\n",
       "    <tr>\n",
       "      <th>4</th>\n",
       "      <td>5</td>\n",
       "      <td>Santo Domingo</td>\n",
       "      <td>Santo Domingo de los Tsachilas</td>\n",
       "      <td>D</td>\n",
       "      <td>4</td>\n",
       "    </tr>\n",
       "  </tbody>\n",
       "</table>\n",
       "</div>"
      ],
      "text/plain": [
       "   store_nbr           city                           state type  cluster\n",
       "0          1          Quito                       Pichincha    D       13\n",
       "1          2          Quito                       Pichincha    D       13\n",
       "2          3          Quito                       Pichincha    D        8\n",
       "3          4          Quito                       Pichincha    D        9\n",
       "4          5  Santo Domingo  Santo Domingo de los Tsachilas    D        4"
      ]
     },
     "execution_count": 4,
     "metadata": {},
     "output_type": "execute_result"
    }
   ],
   "source": [
    "stores_data.head()"
   ]
  },
  {
   "cell_type": "code",
   "execution_count": 5,
   "metadata": {},
   "outputs": [
    {
     "data": {
      "text/html": [
       "<div>\n",
       "<style scoped>\n",
       "    .dataframe tbody tr th:only-of-type {\n",
       "        vertical-align: middle;\n",
       "    }\n",
       "\n",
       "    .dataframe tbody tr th {\n",
       "        vertical-align: top;\n",
       "    }\n",
       "\n",
       "    .dataframe thead th {\n",
       "        text-align: right;\n",
       "    }\n",
       "</style>\n",
       "<table border=\"1\" class=\"dataframe\">\n",
       "  <thead>\n",
       "    <tr style=\"text-align: right;\">\n",
       "      <th></th>\n",
       "      <th>date</th>\n",
       "      <th>dcoilwtico</th>\n",
       "    </tr>\n",
       "  </thead>\n",
       "  <tbody>\n",
       "    <tr>\n",
       "      <th>0</th>\n",
       "      <td>2013-01-01</td>\n",
       "      <td>NaN</td>\n",
       "    </tr>\n",
       "    <tr>\n",
       "      <th>1</th>\n",
       "      <td>2013-01-02</td>\n",
       "      <td>93.14</td>\n",
       "    </tr>\n",
       "    <tr>\n",
       "      <th>2</th>\n",
       "      <td>2013-01-03</td>\n",
       "      <td>92.97</td>\n",
       "    </tr>\n",
       "    <tr>\n",
       "      <th>3</th>\n",
       "      <td>2013-01-04</td>\n",
       "      <td>93.12</td>\n",
       "    </tr>\n",
       "    <tr>\n",
       "      <th>4</th>\n",
       "      <td>2013-01-07</td>\n",
       "      <td>93.20</td>\n",
       "    </tr>\n",
       "  </tbody>\n",
       "</table>\n",
       "</div>"
      ],
      "text/plain": [
       "         date  dcoilwtico\n",
       "0  2013-01-01         NaN\n",
       "1  2013-01-02       93.14\n",
       "2  2013-01-03       92.97\n",
       "3  2013-01-04       93.12\n",
       "4  2013-01-07       93.20"
      ]
     },
     "execution_count": 5,
     "metadata": {},
     "output_type": "execute_result"
    }
   ],
   "source": [
    "oil_data.head()"
   ]
  },
  {
   "cell_type": "code",
   "execution_count": 6,
   "metadata": {},
   "outputs": [
    {
     "data": {
      "text/html": [
       "<div>\n",
       "<style scoped>\n",
       "    .dataframe tbody tr th:only-of-type {\n",
       "        vertical-align: middle;\n",
       "    }\n",
       "\n",
       "    .dataframe tbody tr th {\n",
       "        vertical-align: top;\n",
       "    }\n",
       "\n",
       "    .dataframe thead th {\n",
       "        text-align: right;\n",
       "    }\n",
       "</style>\n",
       "<table border=\"1\" class=\"dataframe\">\n",
       "  <thead>\n",
       "    <tr style=\"text-align: right;\">\n",
       "      <th></th>\n",
       "      <th>date</th>\n",
       "      <th>type</th>\n",
       "      <th>locale</th>\n",
       "      <th>locale_name</th>\n",
       "      <th>description</th>\n",
       "      <th>transferred</th>\n",
       "    </tr>\n",
       "  </thead>\n",
       "  <tbody>\n",
       "    <tr>\n",
       "      <th>0</th>\n",
       "      <td>2012-03-02</td>\n",
       "      <td>Holiday</td>\n",
       "      <td>Local</td>\n",
       "      <td>Manta</td>\n",
       "      <td>Fundacion de Manta</td>\n",
       "      <td>False</td>\n",
       "    </tr>\n",
       "    <tr>\n",
       "      <th>1</th>\n",
       "      <td>2012-04-01</td>\n",
       "      <td>Holiday</td>\n",
       "      <td>Regional</td>\n",
       "      <td>Cotopaxi</td>\n",
       "      <td>Provincializacion de Cotopaxi</td>\n",
       "      <td>False</td>\n",
       "    </tr>\n",
       "    <tr>\n",
       "      <th>2</th>\n",
       "      <td>2012-04-12</td>\n",
       "      <td>Holiday</td>\n",
       "      <td>Local</td>\n",
       "      <td>Cuenca</td>\n",
       "      <td>Fundacion de Cuenca</td>\n",
       "      <td>False</td>\n",
       "    </tr>\n",
       "    <tr>\n",
       "      <th>3</th>\n",
       "      <td>2012-04-14</td>\n",
       "      <td>Holiday</td>\n",
       "      <td>Local</td>\n",
       "      <td>Libertad</td>\n",
       "      <td>Cantonizacion de Libertad</td>\n",
       "      <td>False</td>\n",
       "    </tr>\n",
       "    <tr>\n",
       "      <th>4</th>\n",
       "      <td>2012-04-21</td>\n",
       "      <td>Holiday</td>\n",
       "      <td>Local</td>\n",
       "      <td>Riobamba</td>\n",
       "      <td>Cantonizacion de Riobamba</td>\n",
       "      <td>False</td>\n",
       "    </tr>\n",
       "  </tbody>\n",
       "</table>\n",
       "</div>"
      ],
      "text/plain": [
<<<<<<< HEAD
       "         date     type    locale locale_name                    description   \n",
       "0  2012-03-02  Holiday     Local       Manta             Fundacion de Manta  \\\n",
=======
       "         date     type    locale locale_name                    description  \\\n",
       "0  2012-03-02  Holiday     Local       Manta             Fundacion de Manta   \n",
>>>>>>> origin/aditi
       "1  2012-04-01  Holiday  Regional    Cotopaxi  Provincializacion de Cotopaxi   \n",
       "2  2012-04-12  Holiday     Local      Cuenca            Fundacion de Cuenca   \n",
       "3  2012-04-14  Holiday     Local    Libertad      Cantonizacion de Libertad   \n",
       "4  2012-04-21  Holiday     Local    Riobamba      Cantonizacion de Riobamba   \n",
       "\n",
       "   transferred  \n",
       "0        False  \n",
       "1        False  \n",
       "2        False  \n",
       "3        False  \n",
       "4        False  "
      ]
     },
     "execution_count": 6,
     "metadata": {},
     "output_type": "execute_result"
    }
   ],
   "source": [
    "holidays_data.head()"
   ]
  },
  {
   "cell_type": "markdown",
   "metadata": {},
   "source": [
    "# 🧭 Exploration\n",
    "\n",
    "### What to do?\n",
    "1. Understand the structure and contents of your data by examining the DataFrame.\n",
    "2. Use descriptive methods and functions like `head()`, `info()`, and `describe()` to get an overview of the data.\n",
    "3. Check for missing values using functions like `isnull()` or `isna()` and handle them if necessary.\n",
    "4. Perform data transformations and cleaning, such as removing unnecessary columns or converting data types.\n",
    "5. Visualize the data using plots, histograms, box plots, scatter plots, or any other relevant visualizations to gain insights into the data distribution, patterns, and relationships.\n",
    "\n",
    "### How to?\n",
    "1. Go ahead and clean the data sets note the cleaning functions must be definded in the `data_preprocessing` python script, We want to keep this notebook readable so keep out the complex code.\n",
    "2. After having cleaned a dataset use `df.to_csv()` to save it inside a folder named `data_clean`.\n",
<<<<<<< HEAD
    "Note: the folder MUST be named data_clean (Else it wont be ignored by git and it will try to upload the cleaned data set to github).\n",
    "\n",
    "Help:\n",
    "1. A function named `assess_data()` has been defined in `data_preprocessing.py`, this function returns various importatnt details about the dataframe and can prove to be quite usefull in data exploration.  \n"
=======
    "Note: the folder MUST be named data_clean (Else it wont be ignored by git and it will try to upload the cleaned data set to github).\n"
>>>>>>> origin/aditi
   ]
  },
  {
   "cell_type": "markdown",
   "metadata": {},
   "source": [
    "### 🏋️ Training Datatset\n",
    "\n",
    " **train.csv**: This file contains time series data of sales and features such as `store_nbr, family, and onpromotion`. The target variable is the `sales`, representing the total sales for a product family at a particular store on a given date.\n",
    "\n",
    "To Do: \n",
    "1. 🧹 Clean the data set \n",
<<<<<<< HEAD
    "2. 🔎 Analysis: Figure out the most important features and retain them or List them.\n",
    "\n",
    "  "
=======
    "2. 🔎 Analysis: Figure out the most important features and retain them or List them. "
>>>>>>> origin/aditi
   ]
  },
  {
   "cell_type": "code",
<<<<<<< HEAD
   "execution_count": 7,
=======
   "execution_count": 13,
>>>>>>> origin/aditi
   "metadata": {},
   "outputs": [
    {
     "data": {
      "text/html": [
       "<div>\n",
       "<style scoped>\n",
       "    .dataframe tbody tr th:only-of-type {\n",
       "        vertical-align: middle;\n",
       "    }\n",
       "\n",
       "    .dataframe tbody tr th {\n",
       "        vertical-align: top;\n",
       "    }\n",
       "\n",
       "    .dataframe thead th {\n",
       "        text-align: right;\n",
       "    }\n",
       "</style>\n",
       "<table border=\"1\" class=\"dataframe\">\n",
       "  <thead>\n",
       "    <tr style=\"text-align: right;\">\n",
       "      <th></th>\n",
       "      <th>id</th>\n",
       "      <th>date</th>\n",
       "      <th>store_nbr</th>\n",
       "      <th>family</th>\n",
       "      <th>sales</th>\n",
       "      <th>onpromotion</th>\n",
       "    </tr>\n",
       "  </thead>\n",
       "  <tbody>\n",
       "    <tr>\n",
       "      <th>0</th>\n",
       "      <td>0</td>\n",
       "      <td>2013-01-01</td>\n",
       "      <td>1</td>\n",
       "      <td>AUTOMOTIVE</td>\n",
       "      <td>0.000</td>\n",
       "      <td>0</td>\n",
       "    </tr>\n",
       "    <tr>\n",
       "      <th>1</th>\n",
       "      <td>1</td>\n",
       "      <td>2013-01-01</td>\n",
       "      <td>1</td>\n",
       "      <td>BABY CARE</td>\n",
       "      <td>0.000</td>\n",
       "      <td>0</td>\n",
       "    </tr>\n",
       "    <tr>\n",
       "      <th>2</th>\n",
       "      <td>2</td>\n",
       "      <td>2013-01-01</td>\n",
       "      <td>1</td>\n",
       "      <td>BEAUTY</td>\n",
       "      <td>0.000</td>\n",
       "      <td>0</td>\n",
       "    </tr>\n",
       "    <tr>\n",
       "      <th>3</th>\n",
       "      <td>3</td>\n",
       "      <td>2013-01-01</td>\n",
       "      <td>1</td>\n",
       "      <td>BEVERAGES</td>\n",
       "      <td>0.000</td>\n",
       "      <td>0</td>\n",
       "    </tr>\n",
       "    <tr>\n",
       "      <th>4</th>\n",
       "      <td>4</td>\n",
       "      <td>2013-01-01</td>\n",
       "      <td>1</td>\n",
       "      <td>BOOKS</td>\n",
       "      <td>0.000</td>\n",
       "      <td>0</td>\n",
       "    </tr>\n",
       "    <tr>\n",
       "      <th>...</th>\n",
       "      <td>...</td>\n",
       "      <td>...</td>\n",
       "      <td>...</td>\n",
       "      <td>...</td>\n",
       "      <td>...</td>\n",
       "      <td>...</td>\n",
       "    </tr>\n",
       "    <tr>\n",
       "      <th>3000883</th>\n",
       "      <td>3000883</td>\n",
       "      <td>2017-08-15</td>\n",
       "      <td>9</td>\n",
       "      <td>POULTRY</td>\n",
       "      <td>438.133</td>\n",
       "      <td>0</td>\n",
       "    </tr>\n",
       "    <tr>\n",
       "      <th>3000884</th>\n",
       "      <td>3000884</td>\n",
       "      <td>2017-08-15</td>\n",
       "      <td>9</td>\n",
       "      <td>PREPARED FOODS</td>\n",
       "      <td>154.553</td>\n",
       "      <td>1</td>\n",
       "    </tr>\n",
       "    <tr>\n",
       "      <th>3000885</th>\n",
       "      <td>3000885</td>\n",
       "      <td>2017-08-15</td>\n",
       "      <td>9</td>\n",
       "      <td>PRODUCE</td>\n",
       "      <td>2419.729</td>\n",
       "      <td>148</td>\n",
       "    </tr>\n",
       "    <tr>\n",
       "      <th>3000886</th>\n",
       "      <td>3000886</td>\n",
       "      <td>2017-08-15</td>\n",
       "      <td>9</td>\n",
       "      <td>SCHOOL AND OFFICE SUPPLIES</td>\n",
       "      <td>121.000</td>\n",
       "      <td>8</td>\n",
       "    </tr>\n",
       "    <tr>\n",
       "      <th>3000887</th>\n",
       "      <td>3000887</td>\n",
       "      <td>2017-08-15</td>\n",
       "      <td>9</td>\n",
       "      <td>SEAFOOD</td>\n",
       "      <td>16.000</td>\n",
       "      <td>0</td>\n",
       "    </tr>\n",
       "  </tbody>\n",
       "</table>\n",
       "<p>3000888 rows × 6 columns</p>\n",
       "</div>"
      ],
      "text/plain": [
<<<<<<< HEAD
       "              id        date  store_nbr                      family     sales   \n",
       "0              0  2013-01-01          1                  AUTOMOTIVE     0.000  \\\n",
=======
       "              id        date  store_nbr                      family     sales  \\\n",
       "0              0  2013-01-01          1                  AUTOMOTIVE     0.000   \n",
>>>>>>> origin/aditi
       "1              1  2013-01-01          1                   BABY CARE     0.000   \n",
       "2              2  2013-01-01          1                      BEAUTY     0.000   \n",
       "3              3  2013-01-01          1                   BEVERAGES     0.000   \n",
       "4              4  2013-01-01          1                       BOOKS     0.000   \n",
       "...          ...         ...        ...                         ...       ...   \n",
       "3000883  3000883  2017-08-15          9                     POULTRY   438.133   \n",
       "3000884  3000884  2017-08-15          9              PREPARED FOODS   154.553   \n",
       "3000885  3000885  2017-08-15          9                     PRODUCE  2419.729   \n",
       "3000886  3000886  2017-08-15          9  SCHOOL AND OFFICE SUPPLIES   121.000   \n",
       "3000887  3000887  2017-08-15          9                     SEAFOOD    16.000   \n",
       "\n",
       "         onpromotion  \n",
       "0                  0  \n",
       "1                  0  \n",
       "2                  0  \n",
       "3                  0  \n",
       "4                  0  \n",
       "...              ...  \n",
       "3000883            0  \n",
       "3000884            1  \n",
       "3000885          148  \n",
       "3000886            8  \n",
       "3000887            0  \n",
       "\n",
       "[3000888 rows x 6 columns]"
      ]
     },
<<<<<<< HEAD
     "execution_count": 7,
=======
     "execution_count": 13,
>>>>>>> origin/aditi
     "metadata": {},
     "output_type": "execute_result"
    }
   ],
   "source": [
    "# Viewing the data set\n",
    "train_data"
   ]
  },
  {
   "cell_type": "code",
   "execution_count": 8,
   "metadata": {},
   "outputs": [
    {
     "data": {
<<<<<<< HEAD
=======
      "text/plain": [
       "False"
      ]
     },
     "execution_count": 8,
     "metadata": {},
     "output_type": "execute_result"
    }
   ],
   "source": [
    "train_data.isnull().values.any()"
   ]
  },
  {
   "cell_type": "markdown",
   "metadata": {},
   "source": [
    "Hence the trained dataset has no null values ✔️\n"
   ]
  },
  {
   "cell_type": "code",
   "execution_count": 15,
   "metadata": {},
   "outputs": [
    {
     "data": {
      "text/plain": [
       "False"
      ]
     },
     "execution_count": 15,
     "metadata": {},
     "output_type": "execute_result"
    }
   ],
   "source": [
    "train_data.isna().values.any()"
   ]
  },
  {
   "cell_type": "markdown",
   "metadata": {},
   "source": [
    "Hence there are no missing values (NaN) ✔️"
   ]
  },
  {
   "cell_type": "code",
   "execution_count": null,
   "metadata": {},
   "outputs": [],
   "source": [
    "import pandas as pd\n",
    "import matplotlib.pyplot as plt\n",
    "import seaborn as sn"
   ]
  },
  {
   "cell_type": "code",
   "execution_count": 47,
   "metadata": {},
   "outputs": [
    {
     "data": {
>>>>>>> origin/aditi
      "text/html": [
       "<div>\n",
       "<style scoped>\n",
       "    .dataframe tbody tr th:only-of-type {\n",
       "        vertical-align: middle;\n",
       "    }\n",
       "\n",
       "    .dataframe tbody tr th {\n",
       "        vertical-align: top;\n",
       "    }\n",
       "\n",
       "    .dataframe thead th {\n",
       "        text-align: right;\n",
       "    }\n",
       "</style>\n",
       "<table border=\"1\" class=\"dataframe\">\n",
       "  <thead>\n",
       "    <tr style=\"text-align: right;\">\n",
       "      <th></th>\n",
       "      <th>id</th>\n",
<<<<<<< HEAD
       "      <th>date</th>\n",
       "      <th>store_nbr</th>\n",
       "      <th>family</th>\n",
=======
       "      <th>store_nbr</th>\n",
>>>>>>> origin/aditi
       "      <th>sales</th>\n",
       "      <th>onpromotion</th>\n",
       "    </tr>\n",
       "  </thead>\n",
       "  <tbody>\n",
       "    <tr>\n",
       "      <th>count</th>\n",
<<<<<<< HEAD
       "      <td>3000888.0</td>\n",
       "      <td>3000888</td>\n",
       "      <td>3000888.0</td>\n",
       "      <td>3000888</td>\n",
       "      <td>3000888.0</td>\n",
       "      <td>3000888.0</td>\n",
       "    </tr>\n",
       "    <tr>\n",
       "      <th>mean</th>\n",
       "      <td>1500443.5</td>\n",
       "      <td>NaN</td>\n",
       "      <td>27.5</td>\n",
       "      <td>NaN</td>\n",
       "      <td>357.775749</td>\n",
       "      <td>2.60277</td>\n",
       "    </tr>\n",
       "    <tr>\n",
       "      <th>min</th>\n",
       "      <td>0.0</td>\n",
       "      <td>NaN</td>\n",
       "      <td>1.0</td>\n",
       "      <td>NaN</td>\n",
       "      <td>0.0</td>\n",
       "      <td>0.0</td>\n",
       "    </tr>\n",
       "    <tr>\n",
       "      <th>max</th>\n",
       "      <td>3000887.0</td>\n",
       "      <td>NaN</td>\n",
       "      <td>54.0</td>\n",
       "      <td>NaN</td>\n",
       "      <td>124717.0</td>\n",
       "      <td>741.0</td>\n",
       "    </tr>\n",
       "    <tr>\n",
       "      <th>std</th>\n",
       "      <td>866281.891642</td>\n",
       "      <td>NaN</td>\n",
       "      <td>15.585787</td>\n",
       "      <td>NaN</td>\n",
       "      <td>1101.997721</td>\n",
       "      <td>12.218882</td>\n",
       "    </tr>\n",
       "    <tr>\n",
       "      <th>unique_count</th>\n",
       "      <td>3000888</td>\n",
       "      <td>1684</td>\n",
       "      <td>54</td>\n",
       "      <td>33</td>\n",
       "      <td>379610</td>\n",
       "      <td>362</td>\n",
       "    </tr>\n",
       "    <tr>\n",
       "      <th>null_count</th>\n",
       "      <td>0</td>\n",
       "      <td>0</td>\n",
       "      <td>0</td>\n",
       "      <td>0</td>\n",
       "      <td>0</td>\n",
       "      <td>0</td>\n",
       "    </tr>\n",
       "    <tr>\n",
       "      <th>most_frequent_value</th>\n",
       "      <td>0</td>\n",
       "      <td>2013-01-01</td>\n",
       "      <td>1</td>\n",
       "      <td>AUTOMOTIVE</td>\n",
       "      <td>0.0</td>\n",
       "      <td>0</td>\n",
       "    </tr>\n",
       "    <tr>\n",
       "      <th>most_frequent_value_count</th>\n",
       "      <td>1</td>\n",
       "      <td>1782</td>\n",
       "      <td>55572</td>\n",
       "      <td>90936</td>\n",
       "      <td>939130</td>\n",
       "      <td>2389559</td>\n",
       "    </tr>\n",
       "    <tr>\n",
       "      <th>dtype</th>\n",
       "      <td>int64</td>\n",
       "      <td>object</td>\n",
       "      <td>int64</td>\n",
       "      <td>object</td>\n",
       "      <td>float64</td>\n",
       "      <td>int64</td>\n",
=======
       "      <td>3.000888e+06</td>\n",
       "      <td>3.000888e+06</td>\n",
       "      <td>3.000888e+06</td>\n",
       "      <td>3.000888e+06</td>\n",
       "    </tr>\n",
       "    <tr>\n",
       "      <th>mean</th>\n",
       "      <td>1.500444e+06</td>\n",
       "      <td>2.750000e+01</td>\n",
       "      <td>3.577757e+02</td>\n",
       "      <td>2.602770e+00</td>\n",
       "    </tr>\n",
       "    <tr>\n",
       "      <th>std</th>\n",
       "      <td>8.662819e+05</td>\n",
       "      <td>1.558579e+01</td>\n",
       "      <td>1.101998e+03</td>\n",
       "      <td>1.221888e+01</td>\n",
       "    </tr>\n",
       "    <tr>\n",
       "      <th>min</th>\n",
       "      <td>0.000000e+00</td>\n",
       "      <td>1.000000e+00</td>\n",
       "      <td>0.000000e+00</td>\n",
       "      <td>0.000000e+00</td>\n",
       "    </tr>\n",
       "    <tr>\n",
       "      <th>25%</th>\n",
       "      <td>7.502218e+05</td>\n",
       "      <td>1.400000e+01</td>\n",
       "      <td>0.000000e+00</td>\n",
       "      <td>0.000000e+00</td>\n",
       "    </tr>\n",
       "    <tr>\n",
       "      <th>50%</th>\n",
       "      <td>1.500444e+06</td>\n",
       "      <td>2.750000e+01</td>\n",
       "      <td>1.100000e+01</td>\n",
       "      <td>0.000000e+00</td>\n",
       "    </tr>\n",
       "    <tr>\n",
       "      <th>75%</th>\n",
       "      <td>2.250665e+06</td>\n",
       "      <td>4.100000e+01</td>\n",
       "      <td>1.958473e+02</td>\n",
       "      <td>0.000000e+00</td>\n",
       "    </tr>\n",
       "    <tr>\n",
       "      <th>max</th>\n",
       "      <td>3.000887e+06</td>\n",
       "      <td>5.400000e+01</td>\n",
       "      <td>1.247170e+05</td>\n",
       "      <td>7.410000e+02</td>\n",
>>>>>>> origin/aditi
       "    </tr>\n",
       "  </tbody>\n",
       "</table>\n",
       "</div>"
      ],
      "text/plain": [
<<<<<<< HEAD
       "                                      id        date  store_nbr      family   \n",
       "count                          3000888.0     3000888  3000888.0     3000888  \\\n",
       "mean                           1500443.5         NaN       27.5         NaN   \n",
       "min                                  0.0         NaN        1.0         NaN   \n",
       "max                            3000887.0         NaN       54.0         NaN   \n",
       "std                        866281.891642         NaN  15.585787         NaN   \n",
       "unique_count                     3000888        1684         54          33   \n",
       "null_count                             0           0          0           0   \n",
       "most_frequent_value                    0  2013-01-01          1  AUTOMOTIVE   \n",
       "most_frequent_value_count              1        1782      55572       90936   \n",
       "dtype                              int64      object      int64      object   \n",
       "\n",
       "                                 sales onpromotion  \n",
       "count                        3000888.0   3000888.0  \n",
       "mean                        357.775749     2.60277  \n",
       "min                                0.0         0.0  \n",
       "max                           124717.0       741.0  \n",
       "std                        1101.997721   12.218882  \n",
       "unique_count                    379610         362  \n",
       "null_count                           0           0  \n",
       "most_frequent_value                0.0           0  \n",
       "most_frequent_value_count       939130     2389559  \n",
       "dtype                          float64       int64  "
      ]
     },
     "execution_count": 8,
=======
       "                 id     store_nbr         sales   onpromotion\n",
       "count  3.000888e+06  3.000888e+06  3.000888e+06  3.000888e+06\n",
       "mean   1.500444e+06  2.750000e+01  3.577757e+02  2.602770e+00\n",
       "std    8.662819e+05  1.558579e+01  1.101998e+03  1.221888e+01\n",
       "min    0.000000e+00  1.000000e+00  0.000000e+00  0.000000e+00\n",
       "25%    7.502218e+05  1.400000e+01  0.000000e+00  0.000000e+00\n",
       "50%    1.500444e+06  2.750000e+01  1.100000e+01  0.000000e+00\n",
       "75%    2.250665e+06  4.100000e+01  1.958473e+02  0.000000e+00\n",
       "max    3.000887e+06  5.400000e+01  1.247170e+05  7.410000e+02"
      ]
     },
     "execution_count": 47,
>>>>>>> origin/aditi
     "metadata": {},
     "output_type": "execute_result"
    }
   ],
   "source": [
<<<<<<< HEAD
    "\n",
    "dp.assess_data(train_data)\n"
   ]
  },
  {
   "cell_type": "markdown",
   "metadata": {},
   "source": [
    "From the above assesment it is redily understood that we must handle the date and family columns.  "
=======
    "train_data.describe()"
>>>>>>> origin/aditi
   ]
  },
  {
   "cell_type": "code",
<<<<<<< HEAD
   "execution_count": 9,
=======
   "execution_count": 48,
>>>>>>> origin/aditi
   "metadata": {},
   "outputs": [
    {
     "data": {
<<<<<<< HEAD
      "image/png": "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",
      "text/plain": [
       "<Figure size 800x600 with 1 Axes>"
=======
      "text/plain": [
       "Index(['id', 'date', 'store_nbr', 'family', 'sales', 'onpromotion'], dtype='object')"
      ]
     },
     "execution_count": 48,
     "metadata": {},
     "output_type": "execute_result"
    }
   ],
   "source": [
    "train_data.columns"
   ]
  },
  {
   "cell_type": "code",
   "execution_count": 49,
   "metadata": {},
   "outputs": [
    {
     "data": {
      "text/plain": [
       "<bound method DataFrame.info of               id        date  store_nbr                      family     sales  \\\n",
       "0              0  2013-01-01          1                  AUTOMOTIVE     0.000   \n",
       "1              1  2013-01-01          1                   BABY CARE     0.000   \n",
       "2              2  2013-01-01          1                      BEAUTY     0.000   \n",
       "3              3  2013-01-01          1                   BEVERAGES     0.000   \n",
       "4              4  2013-01-01          1                       BOOKS     0.000   \n",
       "...          ...         ...        ...                         ...       ...   \n",
       "3000883  3000883  2017-08-15          9                     POULTRY   438.133   \n",
       "3000884  3000884  2017-08-15          9              PREPARED FOODS   154.553   \n",
       "3000885  3000885  2017-08-15          9                     PRODUCE  2419.729   \n",
       "3000886  3000886  2017-08-15          9  SCHOOL AND OFFICE SUPPLIES   121.000   \n",
       "3000887  3000887  2017-08-15          9                     SEAFOOD    16.000   \n",
       "\n",
       "         onpromotion  \n",
       "0                  0  \n",
       "1                  0  \n",
       "2                  0  \n",
       "3                  0  \n",
       "4                  0  \n",
       "...              ...  \n",
       "3000883            0  \n",
       "3000884            1  \n",
       "3000885          148  \n",
       "3000886            8  \n",
       "3000887            0  \n",
       "\n",
       "[3000888 rows x 6 columns]>"
      ]
     },
     "execution_count": 49,
     "metadata": {},
     "output_type": "execute_result"
    }
   ],
   "source": [
    "train_data.info"
   ]
  },
  {
   "cell_type": "code",
   "execution_count": 39,
   "metadata": {},
   "outputs": [],
   "source": [
    "grouped_sales = train_data.groupby(['family', 'store_nbr'])['sales'].sum()\n",
    "grouped_sales_df = grouped_sales.reset_index()\n"
   ]
  },
  {
   "cell_type": "code",
   "execution_count": 46,
   "metadata": {},
   "outputs": [
    {
     "data": {
      "text/plain": [
       "33"
      ]
     },
     "execution_count": 46,
     "metadata": {},
     "output_type": "execute_result"
    }
   ],
   "source": [
    "unique_families = grouped_sales_df['family'].unique()\n",
    "unique_families \n",
    "len(unique_families)"
   ]
  },
  {
   "cell_type": "code",
   "execution_count": 36,
   "metadata": {},
   "outputs": [
    {
     "data": {
      "image/png": "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\n",
      "text/plain": [
       "<Figure size 1000x600 with 1 Axes>"
>>>>>>> origin/aditi
      ]
     },
     "metadata": {},
     "output_type": "display_data"
    }
   ],
   "source": [
<<<<<<< HEAD
    "ut.visualize_data(train_data)"
   ]
  },
  {
   "cell_type": "markdown",
   "metadata": {},
   "source": [
    "### 🧪 Test Datatset\n",
    "\n",
    "**test.csv**: Similar to the train.csv file, this file includes the same features, and the task is to predict the sales for the dates provided in this file.\n",
    "\n",
    "To Do: \n",
    "1. This dataset does not require any work, we will later be inputing our predictions into this table. "
   ]
  },
  {
   "cell_type": "markdown",
   "metadata": {},
   "source": [
    "### 🏪 Store Datatset\n",
    "\n",
    "**stores.csv**: This file provides metadata for the stores, including city, state, type, and cluster. The cluster variable represents a grouping of similar stores.\n",
    "\n",
    "To Do: \n",
    "1. 🧹 Clean the data set \n",
    "2. 🔎 Analysis: Figure out the most important features and retain them or List them.\n",
    "3. Find out where to merge this dataset."
   ]
  },
  {
   "cell_type": "code",
   "execution_count": 10,
   "metadata": {},
   "outputs": [
    {
     "data": {
      "text/html": [
       "<div>\n",
       "<style scoped>\n",
       "    .dataframe tbody tr th:only-of-type {\n",
       "        vertical-align: middle;\n",
       "    }\n",
       "\n",
       "    .dataframe tbody tr th {\n",
       "        vertical-align: top;\n",
       "    }\n",
       "\n",
       "    .dataframe thead th {\n",
       "        text-align: right;\n",
       "    }\n",
       "</style>\n",
       "<table border=\"1\" class=\"dataframe\">\n",
       "  <thead>\n",
       "    <tr style=\"text-align: right;\">\n",
       "      <th></th>\n",
       "      <th>store_nbr</th>\n",
       "      <th>city</th>\n",
       "      <th>state</th>\n",
       "      <th>type</th>\n",
       "      <th>cluster</th>\n",
       "    </tr>\n",
       "  </thead>\n",
       "  <tbody>\n",
       "    <tr>\n",
       "      <th>0</th>\n",
       "      <td>1</td>\n",
       "      <td>Quito</td>\n",
       "      <td>Pichincha</td>\n",
       "      <td>D</td>\n",
       "      <td>13</td>\n",
       "    </tr>\n",
       "    <tr>\n",
       "      <th>1</th>\n",
       "      <td>2</td>\n",
       "      <td>Quito</td>\n",
       "      <td>Pichincha</td>\n",
       "      <td>D</td>\n",
       "      <td>13</td>\n",
       "    </tr>\n",
       "    <tr>\n",
       "      <th>2</th>\n",
       "      <td>3</td>\n",
       "      <td>Quito</td>\n",
       "      <td>Pichincha</td>\n",
       "      <td>D</td>\n",
       "      <td>8</td>\n",
       "    </tr>\n",
       "    <tr>\n",
       "      <th>3</th>\n",
       "      <td>4</td>\n",
       "      <td>Quito</td>\n",
       "      <td>Pichincha</td>\n",
       "      <td>D</td>\n",
       "      <td>9</td>\n",
       "    </tr>\n",
       "    <tr>\n",
       "      <th>4</th>\n",
       "      <td>5</td>\n",
       "      <td>Santo Domingo</td>\n",
       "      <td>Santo Domingo de los Tsachilas</td>\n",
       "      <td>D</td>\n",
       "      <td>4</td>\n",
       "    </tr>\n",
       "  </tbody>\n",
       "</table>\n",
       "</div>"
      ],
      "text/plain": [
       "   store_nbr           city                           state type  cluster\n",
       "0          1          Quito                       Pichincha    D       13\n",
       "1          2          Quito                       Pichincha    D       13\n",
       "2          3          Quito                       Pichincha    D        8\n",
       "3          4          Quito                       Pichincha    D        9\n",
       "4          5  Santo Domingo  Santo Domingo de los Tsachilas    D        4"
      ]
     },
     "execution_count": 10,
     "metadata": {},
     "output_type": "execute_result"
    }
   ],
   "source": [
    "stores_data.head()"
   ]
  },
  {
   "cell_type": "code",
   "execution_count": 11,
   "metadata": {},
   "outputs": [
    {
     "data": {
      "text/html": [
       "<div>\n",
       "<style scoped>\n",
       "    .dataframe tbody tr th:only-of-type {\n",
       "        vertical-align: middle;\n",
       "    }\n",
       "\n",
       "    .dataframe tbody tr th {\n",
       "        vertical-align: top;\n",
       "    }\n",
       "\n",
       "    .dataframe thead th {\n",
       "        text-align: right;\n",
       "    }\n",
       "</style>\n",
       "<table border=\"1\" class=\"dataframe\">\n",
       "  <thead>\n",
       "    <tr style=\"text-align: right;\">\n",
       "      <th></th>\n",
       "      <th>store_nbr</th>\n",
       "      <th>city</th>\n",
       "      <th>state</th>\n",
       "      <th>type</th>\n",
       "      <th>cluster</th>\n",
       "    </tr>\n",
       "  </thead>\n",
       "  <tbody>\n",
       "    <tr>\n",
       "      <th>count</th>\n",
       "      <td>54.0</td>\n",
       "      <td>54</td>\n",
       "      <td>54</td>\n",
       "      <td>54</td>\n",
       "      <td>54.0</td>\n",
       "    </tr>\n",
       "    <tr>\n",
       "      <th>mean</th>\n",
       "      <td>27.5</td>\n",
       "      <td>NaN</td>\n",
       "      <td>NaN</td>\n",
       "      <td>NaN</td>\n",
       "      <td>8.481481</td>\n",
       "    </tr>\n",
       "    <tr>\n",
       "      <th>min</th>\n",
       "      <td>1.0</td>\n",
       "      <td>NaN</td>\n",
       "      <td>NaN</td>\n",
       "      <td>NaN</td>\n",
       "      <td>1.0</td>\n",
       "    </tr>\n",
       "    <tr>\n",
       "      <th>max</th>\n",
       "      <td>54.0</td>\n",
       "      <td>NaN</td>\n",
       "      <td>NaN</td>\n",
       "      <td>NaN</td>\n",
       "      <td>17.0</td>\n",
       "    </tr>\n",
       "    <tr>\n",
       "      <th>std</th>\n",
       "      <td>15.732133</td>\n",
       "      <td>NaN</td>\n",
       "      <td>NaN</td>\n",
       "      <td>NaN</td>\n",
       "      <td>4.693395</td>\n",
       "    </tr>\n",
       "    <tr>\n",
       "      <th>unique_count</th>\n",
       "      <td>54</td>\n",
       "      <td>22</td>\n",
       "      <td>16</td>\n",
       "      <td>5</td>\n",
       "      <td>17</td>\n",
       "    </tr>\n",
       "    <tr>\n",
       "      <th>null_count</th>\n",
       "      <td>0</td>\n",
       "      <td>0</td>\n",
       "      <td>0</td>\n",
       "      <td>0</td>\n",
       "      <td>0</td>\n",
       "    </tr>\n",
       "    <tr>\n",
       "      <th>most_frequent_value</th>\n",
       "      <td>1</td>\n",
       "      <td>Quito</td>\n",
       "      <td>Pichincha</td>\n",
       "      <td>D</td>\n",
       "      <td>3</td>\n",
       "    </tr>\n",
       "    <tr>\n",
       "      <th>most_frequent_value_count</th>\n",
       "      <td>1</td>\n",
       "      <td>18</td>\n",
       "      <td>19</td>\n",
       "      <td>18</td>\n",
       "      <td>7</td>\n",
       "    </tr>\n",
       "    <tr>\n",
       "      <th>dtype</th>\n",
       "      <td>int64</td>\n",
       "      <td>object</td>\n",
       "      <td>object</td>\n",
       "      <td>object</td>\n",
       "      <td>int64</td>\n",
       "    </tr>\n",
       "  </tbody>\n",
       "</table>\n",
       "</div>"
      ],
      "text/plain": [
       "                           store_nbr    city      state    type   cluster\n",
       "count                           54.0      54         54      54      54.0\n",
       "mean                            27.5     NaN        NaN     NaN  8.481481\n",
       "min                              1.0     NaN        NaN     NaN       1.0\n",
       "max                             54.0     NaN        NaN     NaN      17.0\n",
       "std                        15.732133     NaN        NaN     NaN  4.693395\n",
       "unique_count                      54      22         16       5        17\n",
       "null_count                         0       0          0       0         0\n",
       "most_frequent_value                1   Quito  Pichincha       D         3\n",
       "most_frequent_value_count          1      18         19      18         7\n",
       "dtype                          int64  object     object  object     int64"
      ]
     },
     "execution_count": 11,
     "metadata": {},
     "output_type": "execute_result"
    }
   ],
   "source": [
    "dp.assess_data(stores_data)"
   ]
  },
  {
   "cell_type": "markdown",
   "metadata": {},
   "source": [
    "### ⛽🚗 Oil Datatset\n",
    "\n",
    "**oil.csv**: Daily oil prices are included in this file. The oil price information is available for both the train and test data timeframes. It's important to note that Ecuador's economy is highly dependent on oil prices.\n",
    "\n",
    "To Do: \n",
    "1. 🧹 Clean the data set \n",
    "2. 🔎 Analysis: Figure out the most important features and retain them or List them.\n",
    "3. Find out where to merge this dataset."
   ]
  },
  {
   "cell_type": "code",
   "execution_count": 12,
   "metadata": {},
   "outputs": [
    {
     "data": {
      "text/html": [
       "<div>\n",
       "<style scoped>\n",
       "    .dataframe tbody tr th:only-of-type {\n",
       "        vertical-align: middle;\n",
       "    }\n",
       "\n",
       "    .dataframe tbody tr th {\n",
       "        vertical-align: top;\n",
       "    }\n",
       "\n",
       "    .dataframe thead th {\n",
       "        text-align: right;\n",
       "    }\n",
       "</style>\n",
       "<table border=\"1\" class=\"dataframe\">\n",
       "  <thead>\n",
       "    <tr style=\"text-align: right;\">\n",
       "      <th></th>\n",
       "      <th>date</th>\n",
       "      <th>dcoilwtico</th>\n",
       "    </tr>\n",
       "  </thead>\n",
       "  <tbody>\n",
       "    <tr>\n",
       "      <th>0</th>\n",
       "      <td>2013-01-01</td>\n",
       "      <td>NaN</td>\n",
       "    </tr>\n",
       "    <tr>\n",
       "      <th>1</th>\n",
       "      <td>2013-01-02</td>\n",
       "      <td>93.14</td>\n",
       "    </tr>\n",
       "    <tr>\n",
       "      <th>2</th>\n",
       "      <td>2013-01-03</td>\n",
       "      <td>92.97</td>\n",
       "    </tr>\n",
       "    <tr>\n",
       "      <th>3</th>\n",
       "      <td>2013-01-04</td>\n",
       "      <td>93.12</td>\n",
       "    </tr>\n",
       "    <tr>\n",
       "      <th>4</th>\n",
       "      <td>2013-01-07</td>\n",
       "      <td>93.20</td>\n",
       "    </tr>\n",
       "  </tbody>\n",
       "</table>\n",
       "</div>"
      ],
      "text/plain": [
       "         date  dcoilwtico\n",
       "0  2013-01-01         NaN\n",
       "1  2013-01-02       93.14\n",
       "2  2013-01-03       92.97\n",
       "3  2013-01-04       93.12\n",
       "4  2013-01-07       93.20"
      ]
     },
     "execution_count": 12,
     "metadata": {},
     "output_type": "execute_result"
    }
   ],
   "source": [
    "oil_data.head()"
   ]
  },
  {
   "cell_type": "code",
   "execution_count": 13,
   "metadata": {},
   "outputs": [
    {
     "data": {
      "text/html": [
       "<div>\n",
       "<style scoped>\n",
       "    .dataframe tbody tr th:only-of-type {\n",
       "        vertical-align: middle;\n",
       "    }\n",
       "\n",
       "    .dataframe tbody tr th {\n",
       "        vertical-align: top;\n",
       "    }\n",
       "\n",
       "    .dataframe thead th {\n",
       "        text-align: right;\n",
       "    }\n",
       "</style>\n",
       "<table border=\"1\" class=\"dataframe\">\n",
       "  <thead>\n",
       "    <tr style=\"text-align: right;\">\n",
       "      <th></th>\n",
       "      <th>date</th>\n",
       "      <th>dcoilwtico</th>\n",
       "    </tr>\n",
       "  </thead>\n",
       "  <tbody>\n",
       "    <tr>\n",
       "      <th>count</th>\n",
       "      <td>1218</td>\n",
       "      <td>1175.0</td>\n",
       "    </tr>\n",
       "    <tr>\n",
       "      <th>most_frequent_value</th>\n",
       "      <td>2013-01-01</td>\n",
       "      <td>46.02</td>\n",
       "    </tr>\n",
       "    <tr>\n",
       "      <th>most_frequent_value_count</th>\n",
       "      <td>1</td>\n",
       "      <td>4</td>\n",
       "    </tr>\n",
       "    <tr>\n",
       "      <th>unique_count</th>\n",
       "      <td>1218</td>\n",
       "      <td>998</td>\n",
       "    </tr>\n",
       "    <tr>\n",
       "      <th>null_count</th>\n",
       "      <td>0</td>\n",
       "      <td>43</td>\n",
       "    </tr>\n",
       "    <tr>\n",
       "      <th>dtype</th>\n",
       "      <td>object</td>\n",
       "      <td>float64</td>\n",
       "    </tr>\n",
       "    <tr>\n",
       "      <th>mean</th>\n",
       "      <td>NaN</td>\n",
       "      <td>67.714366</td>\n",
       "    </tr>\n",
       "    <tr>\n",
       "      <th>min</th>\n",
       "      <td>NaN</td>\n",
       "      <td>26.19</td>\n",
       "    </tr>\n",
       "    <tr>\n",
       "      <th>max</th>\n",
       "      <td>NaN</td>\n",
       "      <td>110.62</td>\n",
       "    </tr>\n",
       "    <tr>\n",
       "      <th>std</th>\n",
       "      <td>NaN</td>\n",
       "      <td>25.630476</td>\n",
       "    </tr>\n",
       "  </tbody>\n",
       "</table>\n",
       "</div>"
      ],
      "text/plain": [
       "                                 date dcoilwtico\n",
       "count                            1218     1175.0\n",
       "most_frequent_value        2013-01-01      46.02\n",
       "most_frequent_value_count           1          4\n",
       "unique_count                     1218        998\n",
       "null_count                          0         43\n",
       "dtype                          object    float64\n",
       "mean                              NaN  67.714366\n",
       "min                               NaN      26.19\n",
       "max                               NaN     110.62\n",
       "std                               NaN  25.630476"
      ]
     },
     "execution_count": 13,
     "metadata": {},
     "output_type": "execute_result"
    }
   ],
   "source": [
    "dp.assess_data(oil_data)"
=======
    "\n",
    "\n",
    "plt.figure(figsize=(10, 6))\n",
    "plt.bar(grouped_sales_df['family'] + ' - ' + grouped_sales_df['store_nbr'].astype(str), grouped_sales_df['sales'])\n",
    "plt.xlabel('Family - Store Number')\n",
    "plt.ylabel('Sales')\n",
    "plt.title('Grouped Sales by Family and Store Number')\n",
    "\n",
    "#plt.tight_layout()\n",
    "plt.show()"
>>>>>>> origin/aditi
   ]
  },
  {
   "cell_type": "code",
   "execution_count": 18,
   "metadata": {},
   "outputs": [
    {
     "data": {
<<<<<<< HEAD
      "text/html": [
       "<div>\n",
       "<style scoped>\n",
       "    .dataframe tbody tr th:only-of-type {\n",
       "        vertical-align: middle;\n",
       "    }\n",
       "\n",
       "    .dataframe tbody tr th {\n",
       "        vertical-align: top;\n",
       "    }\n",
       "\n",
       "    .dataframe thead th {\n",
       "        text-align: right;\n",
       "    }\n",
       "</style>\n",
       "<table border=\"1\" class=\"dataframe\">\n",
       "  <thead>\n",
       "    <tr style=\"text-align: right;\">\n",
       "      <th></th>\n",
       "      <th>date</th>\n",
       "      <th>dcoilwtico</th>\n",
       "    </tr>\n",
       "  </thead>\n",
       "  <tbody>\n",
       "    <tr>\n",
       "      <th>count</th>\n",
       "      <td>1218</td>\n",
       "      <td>1218.0</td>\n",
       "    </tr>\n",
       "    <tr>\n",
       "      <th>most_frequent_value</th>\n",
       "      <td>2013-01-01</td>\n",
       "      <td>67.714366</td>\n",
       "    </tr>\n",
       "    <tr>\n",
       "      <th>most_frequent_value_count</th>\n",
       "      <td>1</td>\n",
       "      <td>43</td>\n",
       "    </tr>\n",
       "    <tr>\n",
       "      <th>unique_count</th>\n",
       "      <td>1218</td>\n",
       "      <td>999</td>\n",
       "    </tr>\n",
       "    <tr>\n",
       "      <th>null_count</th>\n",
       "      <td>0</td>\n",
       "      <td>0</td>\n",
       "    </tr>\n",
       "    <tr>\n",
       "      <th>dtype</th>\n",
       "      <td>object</td>\n",
       "      <td>float64</td>\n",
       "    </tr>\n",
       "    <tr>\n",
       "      <th>mean</th>\n",
       "      <td>NaN</td>\n",
       "      <td>67.714366</td>\n",
       "    </tr>\n",
       "    <tr>\n",
       "      <th>min</th>\n",
       "      <td>NaN</td>\n",
       "      <td>26.19</td>\n",
       "    </tr>\n",
       "    <tr>\n",
       "      <th>max</th>\n",
       "      <td>NaN</td>\n",
       "      <td>110.62</td>\n",
       "    </tr>\n",
       "    <tr>\n",
       "      <th>std</th>\n",
       "      <td>NaN</td>\n",
       "      <td>25.173606</td>\n",
       "    </tr>\n",
       "  </tbody>\n",
       "</table>\n",
       "</div>"
      ],
      "text/plain": [
       "                                 date dcoilwtico\n",
       "count                            1218     1218.0\n",
       "most_frequent_value        2013-01-01  67.714366\n",
       "most_frequent_value_count           1         43\n",
       "unique_count                     1218        999\n",
       "null_count                          0          0\n",
       "dtype                          object    float64\n",
       "mean                              NaN  67.714366\n",
       "min                               NaN      26.19\n",
       "max                               NaN     110.62\n",
       "std                               NaN  25.173606"
=======
      "text/plain": [
       "store_nbr\n",
       "1     1.414501e+07\n",
       "2     2.155739e+07\n",
       "3     5.048191e+07\n",
       "4     1.890970e+07\n",
       "5     1.559240e+07\n",
       "6     2.518368e+07\n",
       "7     2.695205e+07\n",
       "8     3.049429e+07\n",
       "9     2.640944e+07\n",
       "10    9.613906e+06\n",
       "11    2.832556e+07\n",
       "12    1.065922e+07\n",
       "13    1.052305e+07\n",
       "14    1.138792e+07\n",
       "15    1.145127e+07\n",
       "16    1.098641e+07\n",
       "17    1.803097e+07\n",
       "18    1.325938e+07\n",
       "19    1.304951e+07\n",
       "20    1.292095e+07\n",
       "21    9.255506e+06\n",
       "22    4.090202e+06\n",
       "23    1.165138e+07\n",
       "24    2.376773e+07\n",
       "25    1.142100e+07\n",
       "26    7.755122e+06\n",
       "27    1.918802e+07\n",
       "28    1.838315e+07\n",
       "29    9.725158e+06\n",
       "30    7.382074e+06\n",
       "31    1.774687e+07\n",
       "32    5.951796e+06\n",
       "33    1.417850e+07\n",
       "34    1.709073e+07\n",
       "35    7.676679e+06\n",
       "36    1.532243e+07\n",
       "37    1.997064e+07\n",
       "38    1.886000e+07\n",
       "39    2.025219e+07\n",
       "40    1.839576e+07\n",
       "41    1.499104e+07\n",
       "42    8.945768e+06\n",
       "43    1.639169e+07\n",
       "44    6.208755e+07\n",
       "45    5.449801e+07\n",
       "46    4.189606e+07\n",
       "47    5.094831e+07\n",
       "48    3.593313e+07\n",
       "49    4.342010e+07\n",
       "50    2.865302e+07\n",
       "51    3.291149e+07\n",
       "52    2.696170e+06\n",
       "53    1.121617e+07\n",
       "54    1.105748e+07\n",
       "Name: sales, dtype: float64"
>>>>>>> origin/aditi
      ]
     },
     "execution_count": 18,
     "metadata": {},
     "output_type": "execute_result"
    }
   ],
   "source": [
<<<<<<< HEAD
    "dp.handle_missing_values(oil_data)\n",
    "dp.assess_data(oil_data)"
   ]
  },
  {
   "cell_type": "markdown",
   "metadata": {},
   "source": [
    "### 🏖️ Holidays Datatset\n",
    "\n",
    "**holidays_events.csv**: This file contains information about holidays and events, including metadata. Pay attention to the `transferred` column, as it indicates if a holiday was officially transferred to another date. Extra days added to a holiday are marked as `Bridge`.\n",
    "\n",
    "To Do: \n",
    "1. 🧹 Clean the data set \n",
    "2. 🔎 Analysis: Figure out the most important features and retain them or List them.\n",
    "3. Find out where to merge this dataset."
=======
    "train_data['sales'].groupby(train_data['store_nbr']).sum()\n"
>>>>>>> origin/aditi
   ]
  },
  {
   "cell_type": "code",
<<<<<<< HEAD
   "execution_count": 19,
=======
   "execution_count": 43,
>>>>>>> origin/aditi
   "metadata": {},
   "outputs": [
    {
     "data": {
<<<<<<< HEAD
      "text/html": [
       "<div>\n",
       "<style scoped>\n",
       "    .dataframe tbody tr th:only-of-type {\n",
       "        vertical-align: middle;\n",
       "    }\n",
       "\n",
       "    .dataframe tbody tr th {\n",
       "        vertical-align: top;\n",
       "    }\n",
       "\n",
       "    .dataframe thead th {\n",
       "        text-align: right;\n",
       "    }\n",
       "</style>\n",
       "<table border=\"1\" class=\"dataframe\">\n",
       "  <thead>\n",
       "    <tr style=\"text-align: right;\">\n",
       "      <th></th>\n",
       "      <th>date</th>\n",
       "      <th>type</th>\n",
       "      <th>locale</th>\n",
       "      <th>locale_name</th>\n",
       "      <th>description</th>\n",
       "      <th>transferred</th>\n",
       "    </tr>\n",
       "  </thead>\n",
       "  <tbody>\n",
       "    <tr>\n",
       "      <th>0</th>\n",
       "      <td>2012-03-02</td>\n",
       "      <td>Holiday</td>\n",
       "      <td>Local</td>\n",
       "      <td>Manta</td>\n",
       "      <td>Fundacion de Manta</td>\n",
       "      <td>False</td>\n",
       "    </tr>\n",
       "    <tr>\n",
       "      <th>1</th>\n",
       "      <td>2012-04-01</td>\n",
       "      <td>Holiday</td>\n",
       "      <td>Regional</td>\n",
       "      <td>Cotopaxi</td>\n",
       "      <td>Provincializacion de Cotopaxi</td>\n",
       "      <td>False</td>\n",
       "    </tr>\n",
       "    <tr>\n",
       "      <th>2</th>\n",
       "      <td>2012-04-12</td>\n",
       "      <td>Holiday</td>\n",
       "      <td>Local</td>\n",
       "      <td>Cuenca</td>\n",
       "      <td>Fundacion de Cuenca</td>\n",
       "      <td>False</td>\n",
       "    </tr>\n",
       "    <tr>\n",
       "      <th>3</th>\n",
       "      <td>2012-04-14</td>\n",
       "      <td>Holiday</td>\n",
       "      <td>Local</td>\n",
       "      <td>Libertad</td>\n",
       "      <td>Cantonizacion de Libertad</td>\n",
       "      <td>False</td>\n",
       "    </tr>\n",
       "    <tr>\n",
       "      <th>4</th>\n",
       "      <td>2012-04-21</td>\n",
       "      <td>Holiday</td>\n",
       "      <td>Local</td>\n",
       "      <td>Riobamba</td>\n",
       "      <td>Cantonizacion de Riobamba</td>\n",
       "      <td>False</td>\n",
       "    </tr>\n",
       "  </tbody>\n",
       "</table>\n",
       "</div>"
      ],
      "text/plain": [
       "         date     type    locale locale_name                    description   \n",
       "0  2012-03-02  Holiday     Local       Manta             Fundacion de Manta  \\\n",
       "1  2012-04-01  Holiday  Regional    Cotopaxi  Provincializacion de Cotopaxi   \n",
       "2  2012-04-12  Holiday     Local      Cuenca            Fundacion de Cuenca   \n",
       "3  2012-04-14  Holiday     Local    Libertad      Cantonizacion de Libertad   \n",
       "4  2012-04-21  Holiday     Local    Riobamba      Cantonizacion de Riobamba   \n",
       "\n",
       "   transferred  \n",
       "0        False  \n",
       "1        False  \n",
       "2        False  \n",
       "3        False  \n",
       "4        False  "
      ]
     },
     "execution_count": 19,
     "metadata": {},
     "output_type": "execute_result"
    }
   ],
   "source": [
    "holidays_data.head()"
=======
      "image/png": "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\n",
      "text/plain": [
       "<Figure size 1000x600 with 1 Axes>"
      ]
     },
     "metadata": {},
     "output_type": "display_data"
    }
   ],
   "source": [
    "\n",
    "grouped_sales_df = grouped_sales.reset_index()\n",
    "\n",
    "# Plotting the sum of sales by store number using a bar plot\n",
    "plt.figure(figsize=(10, 6))\n",
    "sns.barplot(x='store_nbr', y='sales', data=grouped_sales_df)\n",
    "plt.xlabel('Store Number')\n",
    "plt.ylabel('Sum of Sales')\n",
    "plt.title('Sum of Sales by Store Number')\n",
    "plt.tight_layout()\n",
    "plt.show()"
>>>>>>> origin/aditi
   ]
  },
  {
   "cell_type": "code",
<<<<<<< HEAD
   "execution_count": 23,
   "metadata": {},
   "outputs": [
    {
     "ename": "KeyError",
     "evalue": "'mean'",
     "output_type": "error",
     "traceback": [
      "\u001b[1;31m---------------------------------------------------------------------------\u001b[0m",
      "\u001b[1;31mKeyError\u001b[0m                                  Traceback (most recent call last)",
      "File \u001b[1;32m~\\AppData\\Local\\Packages\\PythonSoftwareFoundation.Python.3.10_qbz5n2kfra8p0\\LocalCache\\local-packages\\Python310\\site-packages\\pandas\\core\\indexes\\base.py:3652\u001b[0m, in \u001b[0;36mIndex.get_loc\u001b[1;34m(self, key)\u001b[0m\n\u001b[0;32m   3651\u001b[0m \u001b[39mtry\u001b[39;00m:\n\u001b[1;32m-> 3652\u001b[0m     \u001b[39mreturn\u001b[39;00m \u001b[39mself\u001b[39;49m\u001b[39m.\u001b[39;49m_engine\u001b[39m.\u001b[39;49mget_loc(casted_key)\n\u001b[0;32m   3653\u001b[0m \u001b[39mexcept\u001b[39;00m \u001b[39mKeyError\u001b[39;00m \u001b[39mas\u001b[39;00m err:\n",
      "File \u001b[1;32m~\\AppData\\Local\\Packages\\PythonSoftwareFoundation.Python.3.10_qbz5n2kfra8p0\\LocalCache\\local-packages\\Python310\\site-packages\\pandas\\_libs\\index.pyx:147\u001b[0m, in \u001b[0;36mpandas._libs.index.IndexEngine.get_loc\u001b[1;34m()\u001b[0m\n",
      "File \u001b[1;32m~\\AppData\\Local\\Packages\\PythonSoftwareFoundation.Python.3.10_qbz5n2kfra8p0\\LocalCache\\local-packages\\Python310\\site-packages\\pandas\\_libs\\index.pyx:176\u001b[0m, in \u001b[0;36mpandas._libs.index.IndexEngine.get_loc\u001b[1;34m()\u001b[0m\n",
      "File \u001b[1;32mpandas\\_libs\\hashtable_class_helper.pxi:7080\u001b[0m, in \u001b[0;36mpandas._libs.hashtable.PyObjectHashTable.get_item\u001b[1;34m()\u001b[0m\n",
      "File \u001b[1;32mpandas\\_libs\\hashtable_class_helper.pxi:7088\u001b[0m, in \u001b[0;36mpandas._libs.hashtable.PyObjectHashTable.get_item\u001b[1;34m()\u001b[0m\n",
      "\u001b[1;31mKeyError\u001b[0m: 'mean'",
      "\nThe above exception was the direct cause of the following exception:\n",
      "\u001b[1;31mKeyError\u001b[0m                                  Traceback (most recent call last)",
      "Cell \u001b[1;32mIn[23], line 1\u001b[0m\n\u001b[1;32m----> 1\u001b[0m dp\u001b[39m.\u001b[39;49massess_data(holidays_data)\n",
      "File \u001b[1;32mc:\\Users\\dell\\OpenSource\\IBM-dataSci\\ProfitProMax\\data_preprocessing.py:52\u001b[0m, in \u001b[0;36massess_data\u001b[1;34m(data)\u001b[0m\n\u001b[0;32m     48\u001b[0m     stats \u001b[39m=\u001b[39m df[col]\u001b[39m.\u001b[39mdescribe()\n\u001b[0;32m     49\u001b[0m     most_frequent_value \u001b[39m=\u001b[39m df[col]\u001b[39m.\u001b[39mmode()\u001b[39m.\u001b[39mvalues[\u001b[39m0\u001b[39m]\n\u001b[0;32m     50\u001b[0m     assess_dict[col] \u001b[39m=\u001b[39m {\n\u001b[0;32m     51\u001b[0m         \u001b[39m'\u001b[39m\u001b[39mcount\u001b[39m\u001b[39m'\u001b[39m: stats[\u001b[39m'\u001b[39m\u001b[39mcount\u001b[39m\u001b[39m'\u001b[39m],\n\u001b[1;32m---> 52\u001b[0m         \u001b[39m'\u001b[39m\u001b[39mmean\u001b[39m\u001b[39m'\u001b[39m: stats[\u001b[39m'\u001b[39;49m\u001b[39mmean\u001b[39;49m\u001b[39m'\u001b[39;49m],\n\u001b[0;32m     53\u001b[0m         \u001b[39m'\u001b[39m\u001b[39mmin\u001b[39m\u001b[39m'\u001b[39m: stats[\u001b[39m'\u001b[39m\u001b[39mmin\u001b[39m\u001b[39m'\u001b[39m],\n\u001b[0;32m     54\u001b[0m         \u001b[39m'\u001b[39m\u001b[39mmax\u001b[39m\u001b[39m'\u001b[39m: stats[\u001b[39m'\u001b[39m\u001b[39mmax\u001b[39m\u001b[39m'\u001b[39m],\n\u001b[0;32m     55\u001b[0m         \u001b[39m'\u001b[39m\u001b[39mstd\u001b[39m\u001b[39m'\u001b[39m: stats[\u001b[39m'\u001b[39m\u001b[39mstd\u001b[39m\u001b[39m'\u001b[39m],\n\u001b[0;32m     56\u001b[0m         \u001b[39m'\u001b[39m\u001b[39munique_count\u001b[39m\u001b[39m'\u001b[39m: \u001b[39mint\u001b[39m(df[col]\u001b[39m.\u001b[39mnunique()),\n\u001b[0;32m     57\u001b[0m         \u001b[39m'\u001b[39m\u001b[39mnull_count\u001b[39m\u001b[39m'\u001b[39m: df[col]\u001b[39m.\u001b[39misnull()\u001b[39m.\u001b[39msum(),\n\u001b[0;32m     58\u001b[0m         \u001b[39m'\u001b[39m\u001b[39mmost_frequent_value\u001b[39m\u001b[39m'\u001b[39m: most_frequent_value,\n\u001b[0;32m     59\u001b[0m         \u001b[39m'\u001b[39m\u001b[39mmost_frequent_value_count\u001b[39m\u001b[39m'\u001b[39m: (df[col] \u001b[39m==\u001b[39m most_frequent_value)\u001b[39m.\u001b[39msum(),\n\u001b[0;32m     60\u001b[0m         \u001b[39m'\u001b[39m\u001b[39mdtype\u001b[39m\u001b[39m'\u001b[39m: df[col]\u001b[39m.\u001b[39mdtype\n\u001b[0;32m     61\u001b[0m     }\n\u001b[0;32m     62\u001b[0m \u001b[39m# Statistics for non-numeric columns\u001b[39;00m\n\u001b[0;32m     63\u001b[0m \u001b[39melse\u001b[39;00m:\n\u001b[0;32m     64\u001b[0m     most_frequent_value \u001b[39m=\u001b[39m df[col]\u001b[39m.\u001b[39mmode()\u001b[39m.\u001b[39mvalues[\u001b[39m0\u001b[39m]\n",
      "File \u001b[1;32m~\\AppData\\Local\\Packages\\PythonSoftwareFoundation.Python.3.10_qbz5n2kfra8p0\\LocalCache\\local-packages\\Python310\\site-packages\\pandas\\core\\series.py:1012\u001b[0m, in \u001b[0;36mSeries.__getitem__\u001b[1;34m(self, key)\u001b[0m\n\u001b[0;32m   1009\u001b[0m     \u001b[39mreturn\u001b[39;00m \u001b[39mself\u001b[39m\u001b[39m.\u001b[39m_values[key]\n\u001b[0;32m   1011\u001b[0m \u001b[39melif\u001b[39;00m key_is_scalar:\n\u001b[1;32m-> 1012\u001b[0m     \u001b[39mreturn\u001b[39;00m \u001b[39mself\u001b[39;49m\u001b[39m.\u001b[39;49m_get_value(key)\n\u001b[0;32m   1014\u001b[0m \u001b[39mif\u001b[39;00m is_hashable(key):\n\u001b[0;32m   1015\u001b[0m     \u001b[39m# Otherwise index.get_value will raise InvalidIndexError\u001b[39;00m\n\u001b[0;32m   1016\u001b[0m     \u001b[39mtry\u001b[39;00m:\n\u001b[0;32m   1017\u001b[0m         \u001b[39m# For labels that don't resolve as scalars like tuples and frozensets\u001b[39;00m\n",
      "File \u001b[1;32m~\\AppData\\Local\\Packages\\PythonSoftwareFoundation.Python.3.10_qbz5n2kfra8p0\\LocalCache\\local-packages\\Python310\\site-packages\\pandas\\core\\series.py:1121\u001b[0m, in \u001b[0;36mSeries._get_value\u001b[1;34m(self, label, takeable)\u001b[0m\n\u001b[0;32m   1118\u001b[0m     \u001b[39mreturn\u001b[39;00m \u001b[39mself\u001b[39m\u001b[39m.\u001b[39m_values[label]\n\u001b[0;32m   1120\u001b[0m \u001b[39m# Similar to Index.get_value, but we do not fall back to positional\u001b[39;00m\n\u001b[1;32m-> 1121\u001b[0m loc \u001b[39m=\u001b[39m \u001b[39mself\u001b[39;49m\u001b[39m.\u001b[39;49mindex\u001b[39m.\u001b[39;49mget_loc(label)\n\u001b[0;32m   1123\u001b[0m \u001b[39mif\u001b[39;00m is_integer(loc):\n\u001b[0;32m   1124\u001b[0m     \u001b[39mreturn\u001b[39;00m \u001b[39mself\u001b[39m\u001b[39m.\u001b[39m_values[loc]\n",
      "File \u001b[1;32m~\\AppData\\Local\\Packages\\PythonSoftwareFoundation.Python.3.10_qbz5n2kfra8p0\\LocalCache\\local-packages\\Python310\\site-packages\\pandas\\core\\indexes\\base.py:3654\u001b[0m, in \u001b[0;36mIndex.get_loc\u001b[1;34m(self, key)\u001b[0m\n\u001b[0;32m   3652\u001b[0m     \u001b[39mreturn\u001b[39;00m \u001b[39mself\u001b[39m\u001b[39m.\u001b[39m_engine\u001b[39m.\u001b[39mget_loc(casted_key)\n\u001b[0;32m   3653\u001b[0m \u001b[39mexcept\u001b[39;00m \u001b[39mKeyError\u001b[39;00m \u001b[39mas\u001b[39;00m err:\n\u001b[1;32m-> 3654\u001b[0m     \u001b[39mraise\u001b[39;00m \u001b[39mKeyError\u001b[39;00m(key) \u001b[39mfrom\u001b[39;00m \u001b[39merr\u001b[39;00m\n\u001b[0;32m   3655\u001b[0m \u001b[39mexcept\u001b[39;00m \u001b[39mTypeError\u001b[39;00m:\n\u001b[0;32m   3656\u001b[0m     \u001b[39m# If we have a listlike key, _check_indexing_error will raise\u001b[39;00m\n\u001b[0;32m   3657\u001b[0m     \u001b[39m#  InvalidIndexError. Otherwise we fall through and re-raise\u001b[39;00m\n\u001b[0;32m   3658\u001b[0m     \u001b[39m#  the TypeError.\u001b[39;00m\n\u001b[0;32m   3659\u001b[0m     \u001b[39mself\u001b[39m\u001b[39m.\u001b[39m_check_indexing_error(key)\n",
      "\u001b[1;31mKeyError\u001b[0m: 'mean'"
     ]
    }
   ],
   "source": [
    "dp.assess_data(holidays_data)"
=======
   "execution_count": null,
   "metadata": {},
   "outputs": [],
   "source": [
    "grouped_sales = train_data.groupby(['family', 'store_nbr','])['sales'].sum()\n",
    "grouped_sales_df = grouped_sales.reset_index()"
>>>>>>> origin/aditi
   ]
  },
  {
   "cell_type": "markdown",
   "metadata": {},
   "source": [
    "# 🔧 Feature Engineering\n",
    "\n",
    "1. Encapsulate data preprocessing tasks in `data_preprocessing.py`:\n",
    "2. Handle missing values by imputation or removal based on analysis.\n",
    "3. Perform feature engineering, such as transforming dates, encoding categorical variables, and creating additional relevant features.\n",
    "4. Apply any necessary data transformations, such as scaling or normalization."
   ]
  },
  {
<<<<<<< HEAD
   "cell_type": "code",
   "execution_count": null,
   "metadata": {},
   "outputs": [],
   "source": []
  },
  {
=======
>>>>>>> origin/aditi
   "cell_type": "markdown",
   "metadata": {},
   "source": [
    "# ⚙️ Model Selection & Training \n",
    "\n",
    "1. Encapsulate model training functionality in `model_training.py`:\n",
    "2. Select a suitable forecasting model based on the problem requirements.\n",
    "3. Implement functions or classes to handle model selection, hyperparameter tuning, and training on the training data.\n",
    "4. Save the trained model for later use.\n",
    "5. Encapsulate model evaluation functionality in `model_evaluation.py`:\n",
    "6. Implement functions or classes to evaluate the performance of the trained model using metrics like MAE, RMSE, or others.\n",
    "7. Generate evaluation reports, visualizations, or any additional analysis to assess the model's accuracy and quality."
   ]
  },
  {
   "cell_type": "markdown",
   "metadata": {},
   "source": [
    "# 🔮 Model Prediction\n",
    "\n",
    "1. Encapsulate prediction functionality in `model_prediction.py`:\n",
    "2. Create functions or classes to load the trained model and make predictions on the test data or unseen data.\n",
    "3. Format the predictions and prepare them for further analysis or visualization."
   ]
  },
  {
   "cell_type": "markdown",
   "metadata": {},
   "source": [
    "# 🚀 Deployment \n",
    "1. Deploy using streamlit"
   ]
  }
 ],
 "metadata": {
  "kernelspec": {
<<<<<<< HEAD
   "display_name": "Python 3",
=======
   "display_name": "Python 3 (ipykernel)",
>>>>>>> origin/aditi
   "language": "python",
   "name": "python3"
  },
  "language_info": {
   "codemirror_mode": {
    "name": "ipython",
    "version": 3
   },
   "file_extension": ".py",
   "mimetype": "text/x-python",
   "name": "python",
   "nbconvert_exporter": "python",
   "pygments_lexer": "ipython3",
<<<<<<< HEAD
   "version": "3.10.11"
  },
  "orig_nbformat": 4
 },
 "nbformat": 4,
 "nbformat_minor": 2
=======
   "version": "3.9.13"
  }
 },
 "nbformat": 4,
 "nbformat_minor": 4
>>>>>>> origin/aditi
}
