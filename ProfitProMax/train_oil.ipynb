{
 "cells": [
  {
   "cell_type": "code",
   "execution_count": 1,
   "metadata": {},
   "outputs": [],
   "source": [
    "\n",
    "import numpy as np\n",
    "import matplotlib.pyplot as plt\n",
    "import pandas as pd\n",
    "import seaborn as sns\n"
   ]
  },
  {
   "cell_type": "code",
   "execution_count": 2,
   "metadata": {},
   "outputs": [
    {
     "data": {
      "text/plain": [
       "store_nbr                       int64\n",
       "sales                         float64\n",
       "onpromotion                     int64\n",
       "AUTOMOTIVE                       bool\n",
       "BABY CARE                        bool\n",
       "BEAUTY                           bool\n",
       "BEVERAGES                        bool\n",
       "BOOKS                            bool\n",
       "BREAD/BAKERY                     bool\n",
       "CELEBRATION                      bool\n",
       "CLEANING                         bool\n",
       "DAIRY                            bool\n",
       "DELI                             bool\n",
       "EGGS                             bool\n",
       "FROZEN FOODS                     bool\n",
       "GROCERY I                        bool\n",
       "GROCERY II                       bool\n",
       "HARDWARE                         bool\n",
       "HOME AND KITCHEN I               bool\n",
       "HOME AND KITCHEN II              bool\n",
       "HOME APPLIANCES                  bool\n",
       "HOME CARE                        bool\n",
       "LADIESWEAR                       bool\n",
       "LAWN AND GARDEN                  bool\n",
       "LINGERIE                         bool\n",
       "LIQUOR,WINE,BEER                 bool\n",
       "MAGAZINES                        bool\n",
       "MEATS                            bool\n",
       "PERSONAL CARE                    bool\n",
       "PET SUPPLIES                     bool\n",
       "PLAYERS AND ELECTRONICS          bool\n",
       "POULTRY                          bool\n",
       "PREPARED FOODS                   bool\n",
       "PRODUCE                          bool\n",
       "SCHOOL AND OFFICE SUPPLIES       bool\n",
       "SEAFOOD                          bool\n",
       "year                            int64\n",
       "month                           int64\n",
       "day                             int64\n",
       "dtype: object"
      ]
     },
     "execution_count": 2,
     "metadata": {},
     "output_type": "execute_result"
    }
   ],
   "source": [
    "\n",
    "file_path = \"./data_clean/train.csv\"\n",
    "df = pd.read_csv(file_path)\n",
    "\n",
    "\n",
    "file_path = \"./data/oil.csv\"\n",
    "df_oil = pd.read_csv(file_path)\n",
    "\n",
    "\n",
    "df_oil.dtypes"
   ]
  }
 ],
 "metadata": {
  "kernelspec": {
   "display_name": "Python 3",
   "language": "python",
   "name": "python3"
  },
  "language_info": {
   "codemirror_mode": {
    "name": "ipython",
    "version": 3
   },
   "file_extension": ".py",
   "mimetype": "text/x-python",
   "name": "python",
   "nbconvert_exporter": "python",
   "pygments_lexer": "ipython3",
   "version": "3.10.11"
  },
  "orig_nbformat": 4
 },
 "nbformat": 4,
 "nbformat_minor": 2
}
